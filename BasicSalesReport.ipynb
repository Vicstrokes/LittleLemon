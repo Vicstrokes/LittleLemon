{
 "cells": [
  {
   "cell_type": "code",
   "execution_count": 1,
   "id": "c684f5b8-a326-406b-8d32-040d0d0177b5",
   "metadata": {},
   "outputs": [],
   "source": [
    "import mysql.connector as connector"
   ]
  },
  {
   "cell_type": "code",
   "execution_count": 7,
   "id": "8350f8ff-5197-438b-9652-ff787e60c309",
   "metadata": {},
   "outputs": [],
   "source": [
    "from mysql.connector import pooling, Error"
   ]
  },
  {
   "cell_type": "code",
   "execution_count": null,
   "id": "866fd82b-500b-4c1b-b423-cb26eaedafb7",
   "metadata": {},
   "outputs": [],
   "source": [
    "try:\n",
    "    # Connection configuration\n",
    "    connection_config_dict = {\n",
    "        'host': 'localhost',\n",
    "        'user': 'root',\n",
    "        'database': 'little_lemon_db',\n",
    "        'autocommit': True\n",
    "    }\n",
    "\n",
    "    # Connect to the database using mysql.connector\n",
    "    connection = connector.connect(**connection_config_dict)\n",
    "\n",
    "    # Create a connection pool\n",
    "    pool = pooling.MySQLConnectionPool(pool_name=\"little_lemon_pool\",\n",
    "                                       pool_size=2,\n",
    "                                       **connection_config_dict)\n",
    "\n",
    "    print(\"The connection pool is created with the name:\", pool.pool_name, \"and the pool size is:\", pool.pool_size)\n",
    "\n",
    "    # Get a cursor object from the connection\n",
    "    cursor = connection.cursor()\n",
    "\n",
    "    if connection.is_connected():\n",
    "        \n",
    "        # Use the little_lemon_db database\n",
    "        use_database_query = \"\"\"USE little_lemon_db;\"\"\"\n",
    "        cursor.execute(use_database_query)\n",
    "        print(\"Using little lemon database\")\n",
    "\n",
    "        # Define and execute the BasicSalesReport procedure\n",
    "        BasicSalesReport_procedure = \"\"\"\n",
    "        CREATE PROCEDURE BasicSalesReport()\n",
    "        BEGIN\n",
    "            SELECT SUM(BillAmount) AS `Total sales`, AVG(BillAmount) AS `Average sale`, \n",
    "                   MIN(BillAmount) AS `Minimum bill paid`, MAX(BillAmount) AS `Maximum bill paid` \n",
    "            FROM Orders;\n",
    "        END\n",
    "        \"\"\"\n",
    "        cursor.execute(BasicSalesReport_procedure)\n",
    "\n",
    "        # Call the BasicSalesReport procedure\n",
    "        cursor.callproc(\"BasicSalesReport\")\n",
    "\n",
    "        # Fetch and print results\n",
    "        for result in cursor.stored_results():\n",
    "            print(result.fetchall())\n",
    "\n",
    "           \n",
    "except Error as e:\n",
    "    # Handle generic MySQL errors\n",
    "    print(\"MySQL Error:\", e)\n",
    "\n",
    "except Exception as ex:\n",
    "    # Handle any other type of exception not caught by previous blocks\n",
    "    print(\"Unknown Error:\", ex)\n",
    "\n",
    "finally:\n",
    "    if 'cursor' in locals() and cursor:\n",
    "        cursor.close()\n",
    "    if 'connection' in locals() and connection.is_connected():\n",
    "        connection.close()\n",
    "        print(\"MySQL connection is closed\")\n"
   ]
  }
 ],
 "metadata": {
  "kernelspec": {
   "display_name": "Python 3 (ipykernel)",
   "language": "python",
   "name": "python3"
  },
  "language_info": {
   "codemirror_mode": {
    "name": "ipython",
    "version": 3
   },
   "file_extension": ".py",
   "mimetype": "text/x-python",
   "name": "python",
   "nbconvert_exporter": "python",
   "pygments_lexer": "ipython3",
   "version": "3.11.5"
  }
 },
 "nbformat": 4,
 "nbformat_minor": 5
}
