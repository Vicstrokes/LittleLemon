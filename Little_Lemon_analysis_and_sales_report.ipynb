{
 "cells": [
  {
   "cell_type": "code",
   "execution_count": 1,
   "id": "706a29d8-d9a3-48e3-a646-3aea3af2165c",
   "metadata": {},
   "outputs": [],
   "source": [
    "import mysql.connector "
   ]
  },
  {
   "cell_type": "code",
   "execution_count": 3,
   "id": "c2165e35-9c6f-4cb0-8f44-54c40b0510f0",
   "metadata": {},
   "outputs": [],
   "source": [
    "from mysql.connector.pooling import MySQLConnectionPool"
   ]
  },
  {
   "cell_type": "code",
   "execution_count": 2,
   "id": "892ceb8e-d670-4d0b-854e-59602d45013c",
   "metadata": {},
   "outputs": [],
   "source": [
    "from mysql.connector import (connection, pooling, Error, PoolError)"
   ]
  },
  {
   "cell_type": "code",
   "execution_count": 4,
   "id": "a81cc8e6-5606-4c87-a7ed-149ab1cb990e",
   "metadata": {},
   "outputs": [
    {
     "name": "stdout",
     "output_type": "stream",
     "text": [
      "The connection pool is created with the name: pool_b   and the pool size is : 2\n",
      "Connected to MySQL Server version  5.5.5-10.4.28-MariaDB\n",
      "Error while connecting to MySQL 1932 (42S02): Table 'little_lemon_db.bookings' doesn't exist in engine\n",
      "MySQL connection is closed\n",
      "Connected to MySQL Server version  5.5.5-10.4.28-MariaDB\n",
      "Error while connecting to MySQL 1932 (42S02): Table 'little_lemon_db.bookings' doesn't exist in engine\n",
      "MySQL connection is closed\n",
      "Connected to MySQL Server version  5.5.5-10.4.28-MariaDB\n",
      "Error while connecting to MySQL 1932 (42S02): Table 'little_lemon_db.bookings' doesn't exist in engine\n",
      "MySQL connection is closed\n",
      "MySQL connection pool is closed\n"
     ]
    }
   ],
   "source": [
    "try:\n",
    "    connection_config_dict = {\n",
    "        'host': 'localhost',\n",
    "        'user': 'root',\n",
    "        'database': 'little_lemon_db',\n",
    "        'autocommit': True\n",
    "    }\n",
    "\n",
    "    connection = mysql.connector.connect(**connection_config_dict)\n",
    "\n",
    "    pool = pooling.MySQLConnectionPool(pool_name=\"pool_b\",\n",
    "                                       pool_size=2,\n",
    "                                       **connection_config_dict)\n",
    "\n",
    "    print(\"The connection pool is created with the name:\", pool.pool_name,\" \", \"and the pool size is :\", pool.pool_size)\n",
    "\n",
    "    users = ['Anees Java', 'Bald Vin', 'Jay Kon']\n",
    "    booking_times = ['18:00', '19:00', '19:30']\n",
    "    table_numbers = [8, 5, 12]\n",
    "    employee_id = 6\n",
    "    \n",
    "    for i in range(len(users)):\n",
    "        try:\n",
    "            connection = pool.get_connection()\n",
    "        \n",
    "            if connection.is_connected():\n",
    "                db_Info = connection.get_server_info()\n",
    "                print(\"Connected to MySQL Server version \", db_Info)\n",
    "                cursor = connection.cursor()\n",
    "        \n",
    "                # Global connection timeout arguments\n",
    "                global_connect_timeout = 'SET GLOBAL connect_timeout=180'\n",
    "                global_wait_timeout = 'SET GLOBAL connect_timeout=180'\n",
    "                global_interactive_timeout = 'SET GLOBAL connect_timeout=180'\n",
    "        \n",
    "                cursor.execute(global_connect_timeout)\n",
    "                cursor.execute(global_wait_timeout)\n",
    "                cursor.execute(global_interactive_timeout)\n",
    "        \n",
    "                connection.commit()\n",
    "                \n",
    "                use_database_query=\"\"\"USE little_lemon_db\"\"\"\n",
    "                cursor.execute(use_database_query)\n",
    "        \n",
    "                # Insert data into Bookings table\n",
    "                insert_stmt = \"INSERT INTO Bookings (TableNo, GuestFirstName, GuestLastName, BookingSlot, EmployeeID) VALUES (%s, %s, %s, %s, %s)\"\n",
    "                booking_data = (table_numbers[i], users[i].split()[0], users[i].split()[1], booking_times[i], employee_id)\n",
    "                cursor.execute(insert_stmt, booking_data)\n",
    "                print(f\"Inserted data for Guest {i+1}\")\n",
    "\n",
    "                # Fetch and print results\n",
    "                for result in cursor.stored_results():\n",
    "                    print(result.fetchall())\n",
    "        \n",
    "        except PoolError as pe:\n",
    "            print(\"Error:\", pe)\n",
    "\n",
    "        except Error as e:\n",
    "            print(\"Error while connecting to MySQL\", e)\n",
    "\n",
    "        finally:\n",
    "            if 'connection' in locals() and connection.is_connected():\n",
    "                cursor.close()\n",
    "                connection.close()\n",
    "                print(\"MySQL connection is closed\")\n",
    "\n",
    "except Error as e:\n",
    "    print(\"Error while connecting to MySQL\", e)\n",
    "\n",
    "finally:\n",
    "    cursor.close()\n",
    "    print(\"MySQL connection pool is closed\")\n"
   ]
  },
  {
   "cell_type": "code",
   "execution_count": null,
   "id": "1c0a0c57-63ca-4d32-bdc6-05983d688746",
   "metadata": {},
   "outputs": [],
   "source": []
  },
  {
   "cell_type": "code",
   "execution_count": null,
   "id": "d6abbac5-204b-457f-952d-c9f2d8f43335",
   "metadata": {},
   "outputs": [],
   "source": []
  }
 ],
 "metadata": {
  "kernelspec": {
   "display_name": "Python 3 (ipykernel)",
   "language": "python",
   "name": "python3"
  },
  "language_info": {
   "codemirror_mode": {
    "name": "ipython",
    "version": 3
   },
   "file_extension": ".py",
   "mimetype": "text/x-python",
   "name": "python",
   "nbconvert_exporter": "python",
   "pygments_lexer": "ipython3",
   "version": "3.11.5"
  }
 },
 "nbformat": 4,
 "nbformat_minor": 5
}
