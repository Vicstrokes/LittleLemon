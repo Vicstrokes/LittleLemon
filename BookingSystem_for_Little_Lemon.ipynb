{
 "cells": [
  {
   "cell_type": "code",
   "execution_count": null,
   "id": "9ad764b5-57c9-4208-b7dc-7f5022a89c51",
   "metadata": {},
   "outputs": [],
   "source": [
    "%pip install mysql-connector-python"
   ]
  },
  {
   "cell_type": "code",
   "execution_count": null,
   "id": "6575cebe-25ee-4a44-a03c-38e3e9527e9c",
   "metadata": {},
   "outputs": [],
   "source": [
    "import mysql.connector as connector"
   ]
  },
  {
   "cell_type": "code",
   "execution_count": null,
   "id": "49ac41f1-c224-4deb-a961-a35b6e02c656",
   "metadata": {},
   "outputs": [],
   "source": [
    "from mysql.connector import Error"
   ]
  },
  {
   "cell_type": "code",
   "execution_count": null,
   "id": "7a2e8008-63a3-4905-8cec-3c18bd11e123",
   "metadata": {},
   "outputs": [],
   "source": [
    "try:\n",
    "    connection_config_dict = {\n",
    "        'host': 'localhost',\n",
    "        'user': 'root',\n",
    "        'database': 'little_lemon_db',\n",
    "        'autocommit': True\n",
    "    }\n",
    "    connection = connector.connect(**connection_config_dict)\n",
    "    if connection.is_connected():\n",
    "        db_Info = connection.get_server_info()\n",
    "        print(\"Connected to MySQL Server version \", db_Info)\n",
    "        cursor = connection.cursor()\n",
    "        cursor.execute(\"select database();\")\n",
    "        record = cursor.fetchone()\n",
    "        print(\"You're connected to database: \", record)\n",
    "        \n",
    "         \n",
    "        \n",
    "        show_tables_query = \"\"\"SHOW TABLES\"\"\"\n",
    "        cursor.execute(show_tables_query)\n",
    "        tables = cursor.fetchall()\n",
    "        for table in tables:\n",
    "            print(\"Table: \", table[0])\n",
    "\n",
    "except Error as e:\n",
    "    print(\"Error while connecting to MySQL\", e)\n",
    "finally:\n",
    "    if connection.is_connected():\n",
    "        cursor.close()\n",
    "        connection.close()\n",
    "        print(\"MySQL connection is closed\")\n"
   ]
  },
  {
   "cell_type": "code",
   "execution_count": null,
   "id": "be918352-4534-41f6-a809-6057d8d85107",
   "metadata": {},
   "outputs": [],
   "source": []
  },
  {
   "cell_type": "code",
   "execution_count": null,
   "id": "f0a9b223-6d95-427f-84d3-5957fb40a073",
   "metadata": {},
   "outputs": [],
   "source": []
  }
 ],
 "metadata": {
  "kernelspec": {
   "display_name": "Python 3 (ipykernel)",
   "language": "python",
   "name": "python3"
  },
  "language_info": {
   "codemirror_mode": {
    "name": "ipython",
    "version": 3
   },
   "file_extension": ".py",
   "mimetype": "text/x-python",
   "name": "python",
   "nbconvert_exporter": "python",
   "pygments_lexer": "ipython3",
   "version": "3.12.4"
  }
 },
 "nbformat": 4,
 "nbformat_minor": 5
}
