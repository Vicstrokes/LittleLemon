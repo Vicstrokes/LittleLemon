{
 "cells": [
  {
   "cell_type": "code",
   "execution_count": null,
   "metadata": {},
   "outputs": [],
   "source": [
    "%pip install mysql-connector-python"
   ]
  },
  {
   "cell_type": "code",
   "execution_count": null,
   "metadata": {},
   "outputs": [],
   "source": [
    "import mysql.connector "
   ]
  },
  {
   "cell_type": "code",
   "execution_count": null,
   "metadata": {},
   "outputs": [],
   "source": [
    "from mysql.connector.pooling import MySQLConnectionPool"
   ]
  },
  {
   "cell_type": "code",
   "execution_count": null,
   "metadata": {},
   "outputs": [],
   "source": [
    "from mysql.connector import  pooling, Error"
   ]
  },
  {
   "cell_type": "code",
   "execution_count": null,
   "metadata": {},
   "outputs": [],
   "source": [
    "try:\n",
    "    connection_config_dict = {\n",
    "        'host': 'localhost',\n",
    "        'user': 'root',\n",
    "        'database': 'little_lemon_db',\n",
    "        'autocommit': False\n",
    "    }\n",
    "\n",
    "    connection = mysql.connector.connect(**connection_config_dict)\n",
    "\n",
    "    # Create a connection pool\n",
    "    pool = pooling.MySQLConnectionPool(pool_name=\"little_lemon_pool\",\n",
    "                                       pool_size=10,\n",
    "                                       **connection_config_dict)\n",
    "\n",
    "    print(\"The connection pool is created with the name:\", pool.pool_name, \"and the pool size is:\", pool.pool_size)\n",
    "\n",
    "    if connection.is_connected():\n",
    "        cursor = connection.cursor(buffered=True)\n",
    "\n",
    "        # Use the database\n",
    "        cursor.execute(\"USE little_lemon_db\")\n",
    "        print(\"Using little_lemon_db\")\n",
    "\n",
    "        customer_detail = \"\"\"\n",
    "            SELECT \n",
    "                Bookings.BookingID, \n",
    "                CONCAT(Bookings.GuestFirstName, ' ', Bookings.GuestLastName) AS Customer_Name,\n",
    "                SUM(Orders.BillAmount) AS Total_BillAmount\n",
    "            FROM \n",
    "                Bookings\n",
    "            INNER JOIN \n",
    "                Orders ON Bookings.BookingID = Orders.BookingID\n",
    "            GROUP BY \n",
    "                Bookings.BookingID, \n",
    "                Customer_Name\n",
    "            HAVING \n",
    "                Total_BillAmount > 60\n",
    "            ORDER BY \n",
    "                SUM(Orders.Quantity) ASC, \n",
    "                Total_BillAmount ASC;\n",
    "        \"\"\"\n",
    "        cursor.execute(customer_detail)\n",
    "        result = cursor.fetchall()\n",
    "        connection.commit()\n",
    "\n",
    "        for row in result:\n",
    "            print(row)\n",
    "\n",
    "\n",
    "\n",
    "except Error as e:\n",
    "    print(\"Error while connecting to MySQL\", e)\n",
    "    connection.rollback()\n",
    "\n",
    "finally:\n",
    "    if 'cursor' in locals():\n",
    "        cursor.close()\n",
    "    if 'connection' in locals() and connection.is_connected():\n",
    "        connection.close()\n",
    "        print(\"MySQL connection is closed\")\n"
   ]
  },
  {
   "cell_type": "code",
   "execution_count": null,
   "metadata": {},
   "outputs": [],
   "source": []
  }
 ],
 "metadata": {
  "language_info": {
   "name": "python"
  }
 },
 "nbformat": 4,
 "nbformat_minor": 2
}
