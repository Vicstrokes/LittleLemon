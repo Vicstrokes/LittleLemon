{
 "cells": [
  {
   "cell_type": "code",
   "execution_count": null,
   "id": "20031b18-37a4-4ea1-9dbf-a0126c01544b",
   "metadata": {},
   "outputs": [],
   "source": [
    "import mysql.connector as connector"
   ]
  },
  {
   "cell_type": "code",
   "execution_count": null,
   "id": "5f40dc03-fd0c-4c14-8c2b-f8e53299d254",
   "metadata": {},
   "outputs": [],
   "source": [
    "from mysql.connector import pooling, Error"
   ]
  },
  {
   "cell_type": "code",
   "execution_count": null,
   "id": "4b1ba686-d0f6-48a9-a441-c74eb962c990",
   "metadata": {},
   "outputs": [],
   "source": [
    "try:\n",
    "     # Connection configuration\n",
    "    connection_config_dict = {\n",
    "        'host': 'localhost',\n",
    "        'user': 'root',\n",
    "        'database': 'little_lemon_db',\n",
    "        'autocommit': True\n",
    "    }\n",
    "\n",
    "    # Connect to the database using mysql.connector\n",
    "    connection = connector.connect(**connection_config_dict)\n",
    "\n",
    "    # Create a connection pool\n",
    "    pool = pooling.MySQLConnectionPool(pool_name=\"little_lemon_pool\",\n",
    "                                       pool_size=3,\n",
    "                                       **connection_config_dict)\n",
    "\n",
    "    print(\"The connection pool is created with the name:\", pool.pool_name, \"and the pool size is:\", pool.pool_size)\n",
    "\n",
    "   # Create a buffered cursor\n",
    "    cursor = connection.cursor(buffered=True)\n",
    "\n",
    "    if connection.is_connected():\n",
    "        \n",
    "        # Use the little_lemon_db database\n",
    "        use_database_query = \"\"\"USE little_lemon_db;\"\"\"\n",
    "        cursor.execute(use_database_query)\n",
    "        print(\"Using little lemon database\")\n",
    "\n",
    "\n",
    "        \n",
    "        chef_notification_query = \"\"\"\n",
    "        SELECT Bookings.BookingSlot, \n",
    "        CONCAT(Bookings.GuestFirstName, ' ', Bookings.GuestLastName) AS Guest_Name,\n",
    "        CONCAT('Assigned to:' Employees.Name, '[',  Employees.Role, ']')\n",
    "        WHERE Employees.Role = 'Head Chef' OR Assistant Chef\n",
    "        FROM Bookings\n",
    "        INNER JOIN\n",
    "        Employees ON Bookings.EmployeeID=Employees.EmployeeID\n",
    "        ORDER BY BookingSlot ASC LIMIT 3;\n",
    "        \"\"\"\n",
    "\n",
    "        cursor.execute(chef_notification_query)\n",
    "        displays = cursor.fetchall()\n",
    "\n",
    "        print(cursor.column_names)\n",
    "        for display in displays:\n",
    "            print(display)\n",
    "\n",
    "\n",
    "\n",
    "except Error as e:\n",
    "    # Handle generic MySQL errors\n",
    "    print(\"MySQL Error:\", e)\n",
    "\n",
    "except Exception as ex:\n",
    "    # Handle any other type of exception not caught by previous blocks\n",
    "    print(\"Unknown Error:\", ex)\n",
    "\n",
    "finally:\n",
    "    if 'cursor' in locals() and cursor:\n",
    "        cursor.close()\n",
    "    if 'connection' in locals() and connection.is_connected():\n",
    "        # Returning the pool back\n",
    "        connection.close()\n",
    "        print(\"MySQL connection is closed\")\n"
   ]
  },
  {
   "cell_type": "code",
   "execution_count": null,
   "id": "95b0c349-f2b4-4989-b28e-dee6767bb30b",
   "metadata": {},
   "outputs": [],
   "source": []
  }
 ],
 "metadata": {
  "kernelspec": {
   "display_name": "Python 3 (ipykernel)",
   "language": "python",
   "name": "python3"
  },
  "language_info": {
   "codemirror_mode": {
    "name": "ipython",
    "version": 3
   },
   "file_extension": ".py",
   "mimetype": "text/x-python",
   "name": "python",
   "nbconvert_exporter": "python",
   "pygments_lexer": "ipython3",
   "version": "3.11.5"
  }
 },
 "nbformat": 4,
 "nbformat_minor": 5
}
